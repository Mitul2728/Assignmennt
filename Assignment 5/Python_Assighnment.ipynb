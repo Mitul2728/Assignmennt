{
  "nbformat": 4,
  "nbformat_minor": 0,
  "metadata": {
    "colab": {
      "provenance": []
    },
    "kernelspec": {
      "name": "python3",
      "display_name": "Python 3"
    },
    "language_info": {
      "name": "python"
    }
  },
  "cells": [
    {
      "cell_type": "markdown",
      "source": [
        "**1)\tWhat are the types of Applications?**\n",
        "\n",
        "**ANS:-** Applications (software programs) can be broadly categorized into the following types:\n",
        "\n",
        "**1.\tWeb Applications :-**\n",
        "\n",
        "o\tRun in web browsers\n",
        "o\tBuilt using HTML, CSS, JavaScript, and back-end languages like Python, PHP\n",
        "o\tExample: Gmail, Facebook\n",
        "\n",
        "**2.\tDesktop Applications :-**\n",
        "\n",
        "o\tInstalled and run on personal computers\n",
        "o\tBuilt using tools like Tkinter, PyQt (in Python)\n",
        "o\tExample: VLC Media Player, MS Word\n",
        "\n",
        "**3.\tMobile Applications :-**\n",
        "\n",
        "o\tRun on smartphones or tablets\n",
        "o\tBuilt using Swift (iOS), Kotlin/Java (Android), or cross-platform tools like React Native\n",
        "\n",
        "**4.\tConsole Applications :-**\n",
        "\n",
        "o\tText-based interface, no GUI\n",
        "o\tExample: Command Line Tools\n",
        "\n",
        "**5.\tEnterprise Applications :-**\n",
        "\n",
        "o\tLarge-scale systems for business use\n",
        "o\tExample: ERP, CRM systems\n",
        "\n",
        "**6.\tGames :-**\n",
        "\n",
        "o\tInteractive applications for entertainment\n",
        "o\tBuilt using game engines like Unity or Pygame\n",
        "\n",
        "\n",
        "\n"
      ],
      "metadata": {
        "id": "UUX4J2mDKnBk"
      }
    },
    {
      "cell_type": "markdown",
      "source": [
        "**2)\tWhat is programing?**\n",
        "\n",
        "**ANS :-** Programming is the process of writing instructions (code) that a computer can execute to perform specific tasks.\n",
        "\n",
        "•\tIt involves designing algorithms, writing code in a programming language (like Python), testing, and debugging.\n",
        "\n",
        "•\tProgramming allows us to create software, automate tasks, build applications, and solve problems using logic.\n"
      ],
      "metadata": {
        "id": "uNgYO2vqjqg3"
      }
    },
    {
      "cell_type": "markdown",
      "source": [
        "**3)\tWhat is Python?**\n",
        "\n",
        "**ANS :-** Python is a high-level, interpreted, general-purpose programming language known for its:\n",
        "\n",
        "•\tEasy syntax\n",
        "\n",
        "•\tReadability\n",
        "\n",
        "•\tWide range of libraries and frameworks\n",
        "\n",
        "•\tUsed for: Web development, data science, automation, AI/ML, etc.\n",
        "\n",
        "**Example:**\n",
        "\n",
        "print(\"Hello, World!\")\n"
      ],
      "metadata": {
        "id": "lhu02EC1kzrS"
      }
    },
    {
      "cell_type": "code",
      "source": [
        "# 4) Write a Python program to check if a number is positive, negative or zero.\n",
        "\n",
        "num = float(input(\"Enter a number: \"))\n",
        "\n",
        "if num > 0:\n",
        "    print(\"The number is positive.\")\n",
        "elif num == 0:\n",
        "    print(\"The number is zero.\")\n",
        "else:\n",
        "    print(\"The number is negative.\")\n"
      ],
      "metadata": {
        "colab": {
          "base_uri": "https://localhost:8080/"
        },
        "id": "HGZCu7MRlFZq",
        "outputId": "a3f16e4b-c220-4073-ac53-f4fd800c1872"
      },
      "execution_count": 103,
      "outputs": [
        {
          "output_type": "stream",
          "name": "stdout",
          "text": [
            "Enter a number: 5\n",
            "The number is positive.\n"
          ]
        }
      ]
    },
    {
      "cell_type": "code",
      "source": [
        "# 5) Write a Python program to get the Factorial number of given numbers.\n",
        "\n",
        "def factorial(n):\n",
        "    if n == 0:\n",
        "        return 1\n",
        "    else:\n",
        "        return n * factorial(n - 1)\n",
        "\n",
        "num = int(input(\"Enter a number: \"))\n",
        "print(\"Factorial is:\", factorial(num))"
      ],
      "metadata": {
        "colab": {
          "base_uri": "https://localhost:8080/"
        },
        "id": "L20oUPWnjkuW",
        "outputId": "6571532f-2e7b-4cb7-890f-7b08dae7a851"
      },
      "execution_count": 101,
      "outputs": [
        {
          "output_type": "stream",
          "name": "stdout",
          "text": [
            "Enter a number: 41\n",
            "Factorial is: 33452526613163807108170062053440751665152000000000\n"
          ]
        }
      ]
    },
    {
      "cell_type": "code",
      "source": [
        "# 6) Write a Python program to get the Fibonacci series of given range.\n",
        "\n",
        "def fibonacci(n):\n",
        "    a, b = 0, 1\n",
        "    for _ in range(n):\n",
        "        print(a, end=' ')\n",
        "        a, b = b, a + b\n",
        "\n",
        "num = int(input(\"Enter range: \"))\n",
        "fibonacci(num)\n"
      ],
      "metadata": {
        "colab": {
          "base_uri": "https://localhost:8080/"
        },
        "id": "03KeH7_HiO-Z",
        "outputId": "be80ca55-aadd-43df-ae49-6affc84250d5"
      },
      "execution_count": 99,
      "outputs": [
        {
          "output_type": "stream",
          "name": "stdout",
          "text": [
            "Enter range: 55\n",
            "0 1 1 2 3 5 8 13 21 34 55 89 144 233 377 610 987 1597 2584 4181 6765 10946 17711 28657 46368 75025 121393 196418 317811 514229 832040 1346269 2178309 3524578 5702887 9227465 14930352 24157817 39088169 63245986 102334155 165580141 267914296 433494437 701408733 1134903170 1836311903 2971215073 4807526976 7778742049 12586269025 20365011074 32951280099 53316291173 86267571272 "
          ]
        }
      ]
    },
    {
      "cell_type": "markdown",
      "source": [
        "**7**) **How memory is managed in Python?**\n",
        "\n",
        "**ANS:-**\n",
        "\n",
        "Memory in Python is managed through:\n",
        "\n",
        "**Automatic Garbage Collection** **:-**\n",
        "\n",
        "Python automatically deallocates memory that is no longer in use.\n",
        "\n",
        "**Reference Counting** **:-**\n",
        "\n",
        "Each object has a count of how many references point to it. When it hits zero, memory is freed.\n",
        "\n",
        "**Private Heap Space** **:-**\n",
        "\n",
        "All Python objects and data structures are stored in a private heap managed by the Python memory manager.\n",
        "\n",
        "**Memory Pools** **(via pymalloc) :-**\n",
        "\n",
        "Python uses memory pools to optimize memory allocation."
      ],
      "metadata": {
        "id": "abo0KLC8jBpr"
      }
    },
    {
      "cell_type": "code",
      "source": [
        "# 8) What is the purpose continuing statement in python?\n",
        "\n",
        "# The continue statement is used inside loops. It skips the current iteration and jumps to the next iteration of the loop.\n",
        "\n",
        "for i in range(1, 6):\n",
        "    if i == 3:\n",
        "        continue\n",
        "    print(i)\n"
      ],
      "metadata": {
        "colab": {
          "base_uri": "https://localhost:8080/"
        },
        "id": "t5qipuTSidoB",
        "outputId": "17c084d5-42e6-4b38-e5ee-3e6a38c1f543"
      },
      "execution_count": 100,
      "outputs": [
        {
          "output_type": "stream",
          "name": "stdout",
          "text": [
            "1\n",
            "2\n",
            "4\n",
            "5\n"
          ]
        }
      ]
    },
    {
      "cell_type": "code",
      "source": [
        "# 9) Write python program that swap two number with temp variableand without temp variable.\n",
        "\n",
        "def swap_with_temp(a, b):\n",
        "    print(\"Before swapping (with temp): a =\", a, \"b =\", b)\n",
        "    temp = a\n",
        "    a = b\n",
        "    b = temp\n",
        "    print(\"After swapping (with temp):  a =\", a, \"b =\", b)\n",
        "    return a, b\n",
        "\n",
        "def swap_without_temp(a, b):\n",
        "    print(\"Before swapping (without temp): a =\", a, \"b =\", b)\n",
        "    a = a + b\n",
        "    b = a - b\n",
        "    a = a - b\n",
        "    print(\"After swapping (without temp):  a =\", a, \"b =\", b)\n",
        "    return a, b\n",
        "\n",
        "x = 10\n",
        "y = 20\n",
        "\n",
        "x, y = swap_with_temp(x, y)\n",
        "\n",
        "x, y = swap_without_temp(x, y)\n"
      ],
      "metadata": {
        "colab": {
          "base_uri": "https://localhost:8080/"
        },
        "id": "9jbYQa6QhoS3",
        "outputId": "15da7cb5-edf6-4da0-8bf7-cf2a9bdd3d43"
      },
      "execution_count": 95,
      "outputs": [
        {
          "output_type": "stream",
          "name": "stdout",
          "text": [
            "Before swapping (with temp): a = 10 b = 20\n",
            "After swapping (with temp):  a = 20 b = 10\n",
            "Before swapping (without temp): a = 20 b = 10\n",
            "After swapping (without temp):  a = 10 b = 20\n"
          ]
        }
      ]
    },
    {
      "cell_type": "code",
      "source": [
        "# 10) Write a Python program to find whether a given number is even or odd, print out an appropriate message to the user.\n",
        "\n",
        "num = int(input(\"Enter a number: \"))\n",
        "\n",
        "if num % 2 == 0:\n",
        "    print(f\"{num} is an Even number.\")\n",
        "else:\n",
        "    print(f\"{num} is an Odd number.\")\n"
      ],
      "metadata": {
        "colab": {
          "base_uri": "https://localhost:8080/"
        },
        "id": "Zjy8y6LULBop",
        "outputId": "96c3a88e-bf69-4649-abee-3bf34a1a9288"
      },
      "execution_count": null,
      "outputs": [
        {
          "output_type": "stream",
          "name": "stdout",
          "text": [
            "Enter a number: 22\n",
            "22 is an Even number.\n"
          ]
        }
      ]
    },
    {
      "cell_type": "code",
      "source": [
        "# 11) Write a Python program to test whether a passed letter is a vowel or not.\n",
        "\n",
        "letter = input(\"Enter a single letter: \").lower()\n",
        "\n",
        "if len(letter) == 1 and letter.isalpha():\n",
        "    if letter in ['a', 'e', 'i', 'o', 'u']:\n",
        "        print(f\"'{letter}' is a vowel.\")\n",
        "    else:\n",
        "        print(f\"'{letter}' is not a vowel.\")\n",
        "else:\n",
        "    print(\"Invalid input. Please enter a single alphabet letter.\")\n"
      ],
      "metadata": {
        "colab": {
          "base_uri": "https://localhost:8080/"
        },
        "id": "iO_jAgaSL0i8",
        "outputId": "739f8851-f0e8-4c07-fa5f-ffaf3c6f59c8"
      },
      "execution_count": null,
      "outputs": [
        {
          "output_type": "stream",
          "name": "stdout",
          "text": [
            "Enter a single letter: m\n",
            "'m' is not a vowel.\n"
          ]
        }
      ]
    },
    {
      "cell_type": "code",
      "source": [
        "# 12) Write a Python program to sum of three given integers. However, if two values are equal sum will be zero.\n",
        "\n",
        "def special_sum(a, b, c):\n",
        "    if a == b or b == c or a == c:\n",
        "        return 0\n",
        "    else:\n",
        "        return a + b + c\n",
        "\n",
        "a = int(input(\"Enter first number (a): \"))\n",
        "b = int(input(\"Enter second number (b): \"))\n",
        "c = int(input(\"Enter third number (c): \"))\n",
        "\n",
        "result = special_sum(a, b, c)\n",
        "print(\"Result:\", result)\n"
      ],
      "metadata": {
        "colab": {
          "base_uri": "https://localhost:8080/"
        },
        "id": "MPJZjQl2Maxt",
        "outputId": "b8fd9254-9f17-4072-cab9-aea88740df1e"
      },
      "execution_count": null,
      "outputs": [
        {
          "output_type": "stream",
          "name": "stdout",
          "text": [
            "Enter first number (a): 10\n",
            "Enter second number (b): 15\n",
            "Enter third number (c): 22\n",
            "Result: 47\n"
          ]
        }
      ]
    },
    {
      "cell_type": "code",
      "source": [
        "# 13) Write a Python program that will return true if the two given integer values are equal or their sum or difference is 5.\n",
        "\n",
        "def check_values(a, b):\n",
        "    return a == b or (a + b) == 5 or abs(a - b) == 5\n",
        "print(check_values(5, 5))\n",
        "print(check_values(2, 3))\n",
        "print(check_values(10, 5))\n",
        "print(check_values(1, 2))\n"
      ],
      "metadata": {
        "colab": {
          "base_uri": "https://localhost:8080/"
        },
        "id": "eWmKJiuJMup9",
        "outputId": "6d614500-9bb6-43d4-b146-08407879e4bc"
      },
      "execution_count": null,
      "outputs": [
        {
          "output_type": "stream",
          "name": "stdout",
          "text": [
            "True\n",
            "True\n",
            "True\n",
            "False\n"
          ]
        }
      ]
    },
    {
      "cell_type": "code",
      "source": [
        "# 14) Write a python program to sum of the first n positive integers.\n",
        "\n",
        "def sum_first_n(n):\n",
        "    return n * (n + 1)\n",
        "n = int(input(\"Enter a positive integer: \"))\n",
        "print(\"Sum of first\", n, \"positive integers is:\", sum_first_n(n))\n"
      ],
      "metadata": {
        "colab": {
          "base_uri": "https://localhost:8080/"
        },
        "id": "dmkfM2EdNKpz",
        "outputId": "3383e373-2186-4d85-8244-a6df28c14d36"
      },
      "execution_count": null,
      "outputs": [
        {
          "output_type": "stream",
          "name": "stdout",
          "text": [
            "Enter a positive integer: 12\n",
            "Sum of first 12 positive integers is: 78\n"
          ]
        }
      ]
    },
    {
      "cell_type": "code",
      "source": [
        "# 15) Write a Python program to calculate the length of a string.\n",
        "\n",
        "text = input(\"Enter a string: \")\n",
        "length = len(text)\n",
        "print(\"Length of the string is:\", length)\n"
      ],
      "metadata": {
        "colab": {
          "base_uri": "https://localhost:8080/"
        },
        "id": "rO8s6x7UNVuR",
        "outputId": "718e3b96-2591-40db-a872-eac44c8bdbe9"
      },
      "execution_count": null,
      "outputs": [
        {
          "output_type": "stream",
          "name": "stdout",
          "text": [
            "Enter a string: 15\n",
            "Length of the string is: 2\n"
          ]
        }
      ]
    },
    {
      "cell_type": "code",
      "source": [
        "# 16) Write a Python program to count the number of characters (character frequency) in a string\n",
        "\n",
        "def char_frequency(s):\n",
        "    freq = {}\n",
        "    for char in s:\n",
        "        if char in freq:\n",
        "            freq[char] += 1\n",
        "        else:\n",
        "            freq[char] = 1\n",
        "    return freq\n",
        "\n",
        "text = input(\"Enter a string: \")\n",
        "print(\"Character frequencies:\")\n",
        "print(char_frequency(text))\n"
      ],
      "metadata": {
        "colab": {
          "base_uri": "https://localhost:8080/"
        },
        "id": "FAa3kQtTNjdg",
        "outputId": "0eb23aab-40dd-4a9b-d988-0cedd9fe3a2b"
      },
      "execution_count": null,
      "outputs": [
        {
          "output_type": "stream",
          "name": "stdout",
          "text": [
            "Enter a string: mitul\n",
            "Character frequencies:\n",
            "{'m': 1, 'i': 1, 't': 1, 'u': 1, 'l': 1}\n"
          ]
        }
      ]
    },
    {
      "cell_type": "code",
      "source": [
        "# 17) What are negative indexes and why are they used?\n",
        "\n",
        "text = \"Python\"\n",
        "print(text[-1])\n",
        "print(text[-2])\n"
      ],
      "metadata": {
        "colab": {
          "base_uri": "https://localhost:8080/"
        },
        "id": "Wlq4cQCmNtjo",
        "outputId": "55b18548-7ec3-4785-a9bf-cb3957ce5b2d"
      },
      "execution_count": null,
      "outputs": [
        {
          "output_type": "stream",
          "name": "stdout",
          "text": [
            "n\n",
            "o\n"
          ]
        }
      ]
    },
    {
      "cell_type": "code",
      "source": [
        "# 18) Write a Python program to count occurrences of a substring in a string.\n",
        "\n",
        "text = input(\"Enter the main string: \")\n",
        "substring = input(\"Enter the substring to count: \")\n",
        "count = text.count(substring)\n",
        "print(f\"The substring '{substring}' occurs {count} times.\")\n"
      ],
      "metadata": {
        "colab": {
          "base_uri": "https://localhost:8080/"
        },
        "id": "MvrSRy13N37E",
        "outputId": "da1a7c8f-b6d2-4926-bb8f-41d567df6342"
      },
      "execution_count": null,
      "outputs": [
        {
          "output_type": "stream",
          "name": "stdout",
          "text": [
            "Enter the main string: mitul\n",
            "Enter the substring to count: 5\n",
            "The substring '5' occurs 0 times.\n"
          ]
        }
      ]
    },
    {
      "cell_type": "code",
      "source": [
        "#19) Write a Python program to count the occurrences of each word in a given sentence\n",
        "\n",
        "def count_word_occurrences(sentence):\n",
        "    words = sentence.lower().split()\n",
        "    word_count = {}\n",
        "\n",
        "    for word in words:\n",
        "        word = word.strip(\".,!?;:\\\"'()[]{}\")\n",
        "        if word in word_count:\n",
        "            word_count[word] += 1\n",
        "        else:\n",
        "            word_count[word] = 1\n",
        "\n",
        "    return word_count\n",
        "sentence = input(\"Enter a sentence: \")\n",
        "\n",
        "counts = count_word_occurrences(sentence)\n",
        "print(\"\\nWord occurrences:\")\n",
        "for word, count in counts.items():\n",
        "    print(f\"{word}: {count}\")\n"
      ],
      "metadata": {
        "colab": {
          "base_uri": "https://localhost:8080/"
        },
        "id": "_D5LYrTkOA62",
        "outputId": "6d7b92bd-5fc3-4947-c12f-c3c908499111"
      },
      "execution_count": null,
      "outputs": [
        {
          "output_type": "stream",
          "name": "stdout",
          "text": [
            "Enter a sentence: mitul\n",
            "\n",
            "Word occurrences:\n",
            "mitul: 1\n"
          ]
        }
      ]
    },
    {
      "cell_type": "code",
      "source": [
        "# 20) Write a Python program to get a single string from two given strings, separated by a space and swap the first two characters of each string.\n",
        "\n",
        "def swap_and_combine(str1, str2):\n",
        "\n",
        "    new_str1 = str2[:2] + str1[2:]\n",
        "    new_str2 = str1[:2] + str2[2:]\n",
        "    return new_str1 + \" \" + new_str2\n",
        "\n",
        "print(swap_and_combine(\"abc\", \"xyz\"))  # Output: \"xyc abz\"\n"
      ],
      "metadata": {
        "colab": {
          "base_uri": "https://localhost:8080/"
        },
        "id": "U8I18udGOl6F",
        "outputId": "fc20bc5f-1289-4ac5-ee78-d227d4ead707"
      },
      "execution_count": null,
      "outputs": [
        {
          "output_type": "stream",
          "name": "stdout",
          "text": [
            "xyc abz\n"
          ]
        }
      ]
    },
    {
      "cell_type": "code",
      "source": [
        "# 21) Write a Python program to add 'in' at the end of a given string (length  should be at least 3). If the given string already ends with 'ing' then add 'ly' instead if the string length of the given string is less than 3, leave it unchanged.\n",
        "\n",
        "def modify_string(s):\n",
        "    if len(s) < 3:\n",
        "        return s\n",
        "    if s.endswith(\"ing\"):\n",
        "        return s + \"ly\"\n",
        "    else:\n",
        "        return s + \"ing\"\n",
        "\n",
        "\n",
        "print(modify_string(\"play\"))\n",
        "print(modify_string(\"playing\"))\n",
        "print(modify_string(\"go\"))\n"
      ],
      "metadata": {
        "colab": {
          "base_uri": "https://localhost:8080/"
        },
        "id": "nND1jFjcO-Xe",
        "outputId": "433d6bf9-f5fb-4ef2-ca9a-8608266ef78b"
      },
      "execution_count": null,
      "outputs": [
        {
          "output_type": "stream",
          "name": "stdout",
          "text": [
            "playing\n",
            "playingly\n",
            "go\n"
          ]
        }
      ]
    },
    {
      "cell_type": "code",
      "source": [
        "# 22) Write a Python function to reverses a string if its length is a multiple of 4.\n",
        "\n",
        "def reverse_if_multiple_of_4(s):\n",
        "    if len(s) % 4 == 0:\n",
        "        return s[::-1]\n",
        "    else:\n",
        "        return s\n",
        "\n",
        "print(reverse_if_multiple_of_4(\"abcd\"))\n",
        "print(reverse_if_multiple_of_4(\"abcde\"))\n"
      ],
      "metadata": {
        "colab": {
          "base_uri": "https://localhost:8080/"
        },
        "id": "rS3L5xuzPT2J",
        "outputId": "32748231-2b3c-4f5a-9f7a-cafc8f87bfa7"
      },
      "execution_count": null,
      "outputs": [
        {
          "output_type": "stream",
          "name": "stdout",
          "text": [
            "dcba\n",
            "abcde\n"
          ]
        }
      ]
    },
    {
      "cell_type": "code",
      "source": [
        "# 23) Write a Python program to get a string made of the first 2 and the last 2 chars from a given a string. If the string length is less than 2, return instead of the empty string.\n",
        "\n",
        "def first_last_two(s):\n",
        "    if len(s) < 2:\n",
        "        return ''\n",
        "    return s[:2] + s[-2:]\n",
        "\n",
        "print(first_last_two(\"hello\"))\n",
        "print(first_last_two(\"a\"))"
      ],
      "metadata": {
        "colab": {
          "base_uri": "https://localhost:8080/"
        },
        "id": "618bCd4ePfjb",
        "outputId": "e7a0cfc2-ce6c-4e71-de4b-65d88204a13d"
      },
      "execution_count": null,
      "outputs": [
        {
          "output_type": "stream",
          "name": "stdout",
          "text": [
            "helo\n",
            "\n"
          ]
        }
      ]
    },
    {
      "cell_type": "code",
      "source": [
        "# 24) Write a Python function to insert a string in the middle of a string.\n",
        "\n",
        "def insert_middle(base, insert):\n",
        "    mid = len(base) // 2\n",
        "    return base[:mid] + insert + base[mid:]\n",
        "\n",
        "print(insert_middle(\"Python\", \"123\"))\n"
      ],
      "metadata": {
        "colab": {
          "base_uri": "https://localhost:8080/"
        },
        "id": "kmY04WVYPt2V",
        "outputId": "4f6a9a13-1d84-478a-be5c-bda5a1c32bd4"
      },
      "execution_count": null,
      "outputs": [
        {
          "output_type": "stream",
          "name": "stdout",
          "text": [
            "Pyt123hon\n"
          ]
        }
      ]
    },
    {
      "cell_type": "code",
      "source": [
        "# 25) What is List? How will you reverse a list?\n",
        "\n",
        "my_list = [1, 2, 3]\n",
        "my_list.reverse()\n",
        "print(my_list)  # [3, 2, 1]\n",
        "\n",
        "my_list = [1, 2, 3]\n",
        "reversed_list = my_list[::-1]\n",
        "print(reversed_list)  # [3, 2, 1]\n"
      ],
      "metadata": {
        "colab": {
          "base_uri": "https://localhost:8080/"
        },
        "id": "SXx8g23mP3S7",
        "outputId": "6d8ad04e-f4d5-446f-b9b9-6afd41f5080e"
      },
      "execution_count": null,
      "outputs": [
        {
          "output_type": "stream",
          "name": "stdout",
          "text": [
            "[3, 2, 1]\n",
            "[3, 2, 1]\n"
          ]
        }
      ]
    },
    {
      "cell_type": "code",
      "source": [
        "# 26) How will you remove last object from a list?\n",
        "\n",
        "my_list = [10, 20, 30]\n",
        "my_list.pop()\n",
        "print(my_list)\n"
      ],
      "metadata": {
        "colab": {
          "base_uri": "https://localhost:8080/"
        },
        "id": "KvT-8ANnQBkH",
        "outputId": "b42a7ede-dc41-403c-f872-8cfc0e4cdcae"
      },
      "execution_count": null,
      "outputs": [
        {
          "output_type": "stream",
          "name": "stdout",
          "text": [
            "[10, 20]\n"
          ]
        }
      ]
    },
    {
      "cell_type": "code",
      "source": [
        "# 27) Suppose list1 is [2, 33, 222, 14, and 25], what is list1 [1]?\n",
        "\n",
        "list1 = [2, 33, 222, 14, 25]\n",
        "print(list1[1])\n"
      ],
      "metadata": {
        "colab": {
          "base_uri": "https://localhost:8080/"
        },
        "id": "Oh5VZAHaQK2B",
        "outputId": "15799a41-dc2b-4217-f478-2fdc0c48e676"
      },
      "execution_count": null,
      "outputs": [
        {
          "output_type": "stream",
          "name": "stdout",
          "text": [
            "33\n"
          ]
        }
      ]
    },
    {
      "cell_type": "code",
      "source": [
        "# 28) Differentiate between append () and extend () methods?\n",
        "\n",
        "a = [1, 2]\n",
        "a.append([3, 4])\n",
        "print(a)\n",
        "\n",
        "b = [1, 2]\n",
        "b.extend([3, 4])\n",
        "print(b)\n"
      ],
      "metadata": {
        "colab": {
          "base_uri": "https://localhost:8080/"
        },
        "id": "mIeyRhWhQXAk",
        "outputId": "5321debd-3e22-4fc5-c087-ab66db97d5b9"
      },
      "execution_count": null,
      "outputs": [
        {
          "output_type": "stream",
          "name": "stdout",
          "text": [
            "[1, 2, [3, 4]]\n",
            "[1, 2, 3, 4]\n"
          ]
        }
      ]
    },
    {
      "cell_type": "code",
      "source": [
        "# 29) Write a Python function to get the largest number, smallest num and sum of all from a list.\n",
        "\n",
        "def analyze_list(numbers):\n",
        "    if not numbers:\n",
        "        return \"The list is empty.\"\n",
        "\n",
        "    largest = max(numbers)\n",
        "    smallest = min(numbers)\n",
        "    total = sum(numbers)\n",
        "\n",
        "    return largest, smallest, total\n",
        "\n",
        "my_list = [10, 20, 5, 8, 99]\n",
        "largest, smallest, total = analyze_list(my_list)\n",
        "print(\"Largest number:\", largest)\n",
        "print(\"Smallest number:\", smallest)\n",
        "print(\"Sum of all numbers:\", total)\n"
      ],
      "metadata": {
        "colab": {
          "base_uri": "https://localhost:8080/"
        },
        "id": "grwuwxvzQdkp",
        "outputId": "4f821fb3-4c9c-45af-ec49-71ce538fa180"
      },
      "execution_count": null,
      "outputs": [
        {
          "output_type": "stream",
          "name": "stdout",
          "text": [
            "Largest number: 99\n",
            "Smallest number: 5\n",
            "Sum of all numbers: 142\n"
          ]
        }
      ]
    },
    {
      "cell_type": "code",
      "source": [
        "# 30) How will you compare two lists?\n",
        "\n",
        "list1 = [1, 2, 3]\n",
        "list2 = [1, 2, 3]\n",
        "\n",
        "print(list1 == list2)\n"
      ],
      "metadata": {
        "colab": {
          "base_uri": "https://localhost:8080/"
        },
        "id": "6A_dWPrpQwS2",
        "outputId": "64030e9c-1ec9-4714-9b01-f70c3ea1e2cf"
      },
      "execution_count": null,
      "outputs": [
        {
          "output_type": "stream",
          "name": "stdout",
          "text": [
            "True\n"
          ]
        }
      ]
    },
    {
      "cell_type": "code",
      "source": [
        "#31) Write a Python program to count the number of strings where the string length is 2 or more and the first and last character are same from a given list of strings.\n",
        "\n",
        "def match_ends(words):\n",
        "    count = 0\n",
        "    for word in words:\n",
        "        if len(word) >= 2 and word[0] == word[-1]:\n",
        "            count += 1\n",
        "    return count\n",
        "\n",
        "words_list = ['abc', 'xyz', 'aba', '1221']\n",
        "print(\"Count:\", match_ends(words_list))\n"
      ],
      "metadata": {
        "colab": {
          "base_uri": "https://localhost:8080/"
        },
        "id": "k7okJPiuQ6NR",
        "outputId": "abe3d126-2579-4d72-dc0f-00c2d0552abc"
      },
      "execution_count": null,
      "outputs": [
        {
          "output_type": "stream",
          "name": "stdout",
          "text": [
            "Count: 2\n"
          ]
        }
      ]
    },
    {
      "cell_type": "code",
      "source": [
        "# 32) Write a Python program to remove duplicates from a list.\n",
        "\n",
        "my_list = [1, 2, 2, 3, 4, 4, 5]\n",
        "unique_list = list(set(my_list))\n",
        "print(\"List without duplicates:\", unique_list)\n"
      ],
      "metadata": {
        "colab": {
          "base_uri": "https://localhost:8080/"
        },
        "id": "X6fIb1KSROKb",
        "outputId": "ddb340a7-1a5f-469c-ef34-bfd021edf8b1"
      },
      "execution_count": null,
      "outputs": [
        {
          "output_type": "stream",
          "name": "stdout",
          "text": [
            "List without duplicates: [1, 2, 3, 4, 5]\n"
          ]
        }
      ]
    },
    {
      "cell_type": "code",
      "source": [
        "# 33) Write a Python program to check a list is empty or not.\n",
        "\n",
        "my_list = []\n",
        "if not my_list:\n",
        "    print(\"The list is empty.\")\n",
        "else:\n",
        "    print(\"The list is not empty.\")\n"
      ],
      "metadata": {
        "colab": {
          "base_uri": "https://localhost:8080/"
        },
        "id": "o-pPn0NyRUej",
        "outputId": "48d3f1de-ce74-48e5-bcea-c6629b85dceb"
      },
      "execution_count": null,
      "outputs": [
        {
          "output_type": "stream",
          "name": "stdout",
          "text": [
            "The list is empty.\n"
          ]
        }
      ]
    },
    {
      "cell_type": "code",
      "source": [
        "# 34) Write a Python function that takes two lists and returns true if they have at least one common member.\n",
        "\n",
        "def have_common_member(list1, list2):\n",
        "    for item in list1:\n",
        "        if item in list2:\n",
        "            return True\n",
        "    return False\n",
        "\n",
        "print(have_common_member([1, 2, 3], [4, 5, 3]))"
      ],
      "metadata": {
        "colab": {
          "base_uri": "https://localhost:8080/"
        },
        "id": "nK_wIfxjRcVg",
        "outputId": "3602d5b3-7ddc-4f5c-b1a9-5332338986be"
      },
      "execution_count": null,
      "outputs": [
        {
          "output_type": "stream",
          "name": "stdout",
          "text": [
            "True\n"
          ]
        }
      ]
    },
    {
      "cell_type": "code",
      "source": [
        "# 35) Write a Python program to generate and print a list of first and last 5 elements where the values are square of numbers between 1 and 30.\n",
        "\n",
        "squares = [i**2 for i in range(1, 31)]\n",
        "print(\"First 5:\", squares[:5])\n",
        "print(\"Last 5:\", squares[-5:])\n"
      ],
      "metadata": {
        "colab": {
          "base_uri": "https://localhost:8080/"
        },
        "id": "x9D0kNwwRjjk",
        "outputId": "4736453d-97b9-4d76-c4a9-66da0de3ae18"
      },
      "execution_count": null,
      "outputs": [
        {
          "output_type": "stream",
          "name": "stdout",
          "text": [
            "First 5: [1, 4, 9, 16, 25]\n",
            "Last 5: [676, 729, 784, 841, 900]\n"
          ]
        }
      ]
    },
    {
      "cell_type": "code",
      "source": [
        "# 36) Write a Python function that takes a list and returns a new list with unique elements of the first list.\n",
        "\n",
        "def unique_elements(lst):\n",
        "    return list(set(lst))\n",
        "\n",
        "print(unique_elements([1, 2, 2, 3, 4, 4]))  # Output: [1, 2, 3, 4]\n"
      ],
      "metadata": {
        "colab": {
          "base_uri": "https://localhost:8080/"
        },
        "id": "YwaIWqWfRqdq",
        "outputId": "3a35ece6-406d-4cc1-cf07-2e01b5f5ab44"
      },
      "execution_count": null,
      "outputs": [
        {
          "output_type": "stream",
          "name": "stdout",
          "text": [
            "[1, 2, 3, 4]\n"
          ]
        }
      ]
    },
    {
      "cell_type": "code",
      "source": [
        "# 37) Write a Python program to convert a list of characters into a string.\n",
        "\n",
        "chars = ['H', 'e', 'l', 'l', 'o']\n",
        "string = ''.join(chars)\n",
        "print(\"String:\", string)  # Output: Hello\n"
      ],
      "metadata": {
        "colab": {
          "base_uri": "https://localhost:8080/"
        },
        "id": "Zl71aQEoRxKQ",
        "outputId": "5f1a8c2c-b69e-470e-8f53-09309bd5d640"
      },
      "execution_count": null,
      "outputs": [
        {
          "output_type": "stream",
          "name": "stdout",
          "text": [
            "String: Hello\n"
          ]
        }
      ]
    },
    {
      "cell_type": "code",
      "source": [
        "# 38) Write a Python program to select an item randomly from a list.\n",
        "\n",
        "import random\n",
        "\n",
        "items = [10, 20, 30, 40]\n",
        "random_item = random.choice(items)\n",
        "print(\"Randomly selected:\", random_item)\n"
      ],
      "metadata": {
        "colab": {
          "base_uri": "https://localhost:8080/"
        },
        "id": "SfLafLUxR3ql",
        "outputId": "5446e17e-e683-4ffa-d06d-2005f58af113"
      },
      "execution_count": null,
      "outputs": [
        {
          "output_type": "stream",
          "name": "stdout",
          "text": [
            "Randomly selected: 40\n"
          ]
        }
      ]
    },
    {
      "cell_type": "code",
      "source": [
        "# 39) Write a Python program to find the second smallest number in a list.\n",
        "\n",
        "def second_smallest(numbers):\n",
        "    unique_numbers = list(set(numbers))\n",
        "    unique_numbers.sort()\n",
        "    if len(unique_numbers) >= 2:\n",
        "        return unique_numbers[1]\n",
        "    else:\n",
        "        return None\n",
        "\n",
        "print(second_smallest([5, 1, 4, 1, 2]))\n"
      ],
      "metadata": {
        "colab": {
          "base_uri": "https://localhost:8080/"
        },
        "id": "ptfNMwemR9Zb",
        "outputId": "eebb12ce-914e-4ad5-af3b-e54991ef73ec"
      },
      "execution_count": null,
      "outputs": [
        {
          "output_type": "stream",
          "name": "stdout",
          "text": [
            "2\n"
          ]
        }
      ]
    },
    {
      "cell_type": "code",
      "source": [
        "# 40) Write a Python program to get unique values from a list\n",
        "\n",
        "my_list = [1, 2, 2, 3, 4, 4, 5]\n",
        "unique_values = list(set(my_list))\n",
        "print(\"Unique values:\", unique_values)\n"
      ],
      "metadata": {
        "colab": {
          "base_uri": "https://localhost:8080/"
        },
        "id": "axndichySD9M",
        "outputId": "fd29904f-c1e0-483a-9033-cb06e92bd3ae"
      },
      "execution_count": null,
      "outputs": [
        {
          "output_type": "stream",
          "name": "stdout",
          "text": [
            "Unique values: [1, 2, 3, 4, 5]\n"
          ]
        }
      ]
    },
    {
      "cell_type": "code",
      "source": [
        "# 41) Write a Python program to check whether a list contains a sub list\n",
        "\n",
        "def contains_sublist(main_list, sub_list):\n",
        "    sub_len = len(sub_list)\n",
        "    for i in range(len(main_list) - sub_len + 1):\n",
        "        if main_list[i:i+sub_len] == sub_list:\n",
        "            return True\n",
        "    return False\n",
        "\n",
        "main = [1, 2, 3, 4, 5]\n",
        "sub = [3, 4]\n",
        "print(contains_sublist(main, sub))  # Output: True\n"
      ],
      "metadata": {
        "colab": {
          "base_uri": "https://localhost:8080/"
        },
        "id": "M9bSH7IdSQal",
        "outputId": "03a28423-7b16-461a-cf02-71c2b28b7913"
      },
      "execution_count": null,
      "outputs": [
        {
          "output_type": "stream",
          "name": "stdout",
          "text": [
            "True\n"
          ]
        }
      ]
    },
    {
      "cell_type": "code",
      "source": [
        "# 42) Write a Python program to split a list into different variables.\n",
        "\n",
        "my_list = [10, 20, 30]\n",
        "\n",
        "a, b, c = my_list\n",
        "\n",
        "print(a)\n",
        "print(b)\n",
        "print(c)\n"
      ],
      "metadata": {
        "colab": {
          "base_uri": "https://localhost:8080/"
        },
        "id": "KHdyEUlRUFP9",
        "outputId": "6db1c1b7-064c-4de0-e726-7be634444ad3"
      },
      "execution_count": null,
      "outputs": [
        {
          "output_type": "stream",
          "name": "stdout",
          "text": [
            "10\n",
            "20\n",
            "30\n"
          ]
        }
      ]
    },
    {
      "cell_type": "code",
      "source": [
        "# 43) What is tuple? Difference between list and tuple.\n",
        "\n",
        "my_list = [1, 2, 3]\n",
        "my_tuple = (1, 2, 3)"
      ],
      "metadata": {
        "id": "2DuolY_8URDS"
      },
      "execution_count": null,
      "outputs": []
    },
    {
      "cell_type": "code",
      "source": [
        "# 44) Write a Python program to create a tuple with different data types.\n",
        "\n",
        "my_tuple = (1, \"MITUL\", 3.14, True)\n",
        "print(my_tuple)\n"
      ],
      "metadata": {
        "colab": {
          "base_uri": "https://localhost:8080/"
        },
        "id": "3B_2X83MUeZo",
        "outputId": "0cce0988-8cd9-4cf3-ea98-e9e9e7b5c893"
      },
      "execution_count": null,
      "outputs": [
        {
          "output_type": "stream",
          "name": "stdout",
          "text": [
            "(1, 'MITUL', 3.14, True)\n"
          ]
        }
      ]
    },
    {
      "cell_type": "code",
      "source": [
        "# 45) Write a Python program to unzip a list of tuples into individual lists.\n",
        "\n",
        "list_of_tuples = [(1, 'a'), (2, 'b'), (3, 'c')]\n",
        "\n",
        "numbers, letters = zip(*list_of_tuples)\n",
        "\n",
        "print(list(numbers))\n",
        "print(list(letters))\n"
      ],
      "metadata": {
        "colab": {
          "base_uri": "https://localhost:8080/"
        },
        "id": "k-_Vf0y6UoQr",
        "outputId": "994ba3c0-fbf0-4e2e-9fc1-21ee4b14709d"
      },
      "execution_count": null,
      "outputs": [
        {
          "output_type": "stream",
          "name": "stdout",
          "text": [
            "[1, 2, 3]\n",
            "['a', 'b', 'c']\n"
          ]
        }
      ]
    },
    {
      "cell_type": "code",
      "source": [
        "# 46) Write a Python program to convert a list of tuples into a dictionary.\n",
        "\n",
        "list_of_tuples = [('a', 1), ('b', 2), ('c', 3)]\n",
        "\n",
        "dictionary = dict(list_of_tuples)\n",
        "print(dictionary)\n"
      ],
      "metadata": {
        "colab": {
          "base_uri": "https://localhost:8080/"
        },
        "id": "MYUevdIUUyoZ",
        "outputId": "f7d9d45e-6532-40e9-a793-4d5fdfc1abd2"
      },
      "execution_count": null,
      "outputs": [
        {
          "output_type": "stream",
          "name": "stdout",
          "text": [
            "{'a': 1, 'b': 2, 'c': 3}\n"
          ]
        }
      ]
    },
    {
      "cell_type": "code",
      "source": [
        "# 47) How will you create a dictionary using tuples in python?\n",
        "\n",
        "tuples = (('x', 24), ('y', 25), ('z', 26))\n",
        "\n",
        "my_dict = dict(tuples)\n",
        "print(my_dict)  # Output: {'x': 24, 'y': 25, 'z': 26}\n"
      ],
      "metadata": {
        "colab": {
          "base_uri": "https://localhost:8080/"
        },
        "id": "rVMueItaVBHp",
        "outputId": "faf4d307-ebed-4d6d-bef0-9068caa06cfd"
      },
      "execution_count": null,
      "outputs": [
        {
          "output_type": "stream",
          "name": "stdout",
          "text": [
            "{'x': 24, 'y': 25, 'z': 26}\n"
          ]
        }
      ]
    },
    {
      "cell_type": "code",
      "source": [
        "# 48) Write a Python script to sort (ascending and descending) a dictionary by value.\n",
        "\n",
        "my_dict = {'apple': 10, 'banana': 5, 'cherry': 20}\n",
        "\n",
        "asc_sorted = dict(sorted(my_dict.items(), key=lambda item: item[1]))\n",
        "print(\"Ascending:\", asc_sorted)\n",
        "\n",
        "desc_sorted = dict(sorted(my_dict.items(), key=lambda item: item[1], reverse=True))\n",
        "print(\"Descending:\", desc_sorted)\n"
      ],
      "metadata": {
        "colab": {
          "base_uri": "https://localhost:8080/"
        },
        "id": "TqdZt3y2VGaR",
        "outputId": "773b833b-c63c-488e-c64d-ab0d2744daba"
      },
      "execution_count": null,
      "outputs": [
        {
          "output_type": "stream",
          "name": "stdout",
          "text": [
            "Ascending: {'banana': 5, 'apple': 10, 'cherry': 20}\n",
            "Descending: {'cherry': 20, 'apple': 10, 'banana': 5}\n"
          ]
        }
      ]
    },
    {
      "cell_type": "code",
      "source": [
        "# 49) Write a Python script to concatenate following dictionaries to create a new one.\n",
        "\n",
        "dict1 = {'a': 1, 'b': 2}\n",
        "dict2 = {'c': 3, 'd': 4}\n",
        "dict3 = {'e': 5}\n",
        "\n",
        "new_dict = {**dict1, **dict2, **dict3}\n",
        "print(new_dict)\n",
        "\n",
        "new_dict2 = dict1.copy()\n",
        "new_dict2.update(dict2)\n",
        "new_dict2.update(dict3)\n",
        "print(new_dict2)\n"
      ],
      "metadata": {
        "colab": {
          "base_uri": "https://localhost:8080/"
        },
        "id": "w-S_kV2KVTml",
        "outputId": "6bc7f73b-f17a-44c7-8c6e-2859d171d229"
      },
      "execution_count": null,
      "outputs": [
        {
          "output_type": "stream",
          "name": "stdout",
          "text": [
            "{'a': 1, 'b': 2, 'c': 3, 'd': 4, 'e': 5}\n",
            "{'a': 1, 'b': 2, 'c': 3, 'd': 4, 'e': 5}\n"
          ]
        }
      ]
    },
    {
      "cell_type": "code",
      "source": [
        "# 50) Write a Python script to check if a given key already exists in a dictionary.\n",
        "\n",
        "my_dict = {'name': 'Mitul', 'age': 21}\n",
        "\n",
        "key = 'age'\n",
        "if key in my_dict:\n",
        "    print(f\"Key '{key}' exists in dictionary.\")\n",
        "else:\n",
        "    print(f\"Key '{key}' does not exist.\")\n"
      ],
      "metadata": {
        "colab": {
          "base_uri": "https://localhost:8080/"
        },
        "id": "IHY0QXGhVisC",
        "outputId": "34b0aae4-2243-4edd-c5c6-0b8d83051cf9"
      },
      "execution_count": null,
      "outputs": [
        {
          "output_type": "stream",
          "name": "stdout",
          "text": [
            "Key 'age' exists in dictionary.\n"
          ]
        }
      ]
    },
    {
      "cell_type": "code",
      "source": [
        "# 51) How Do You Traverse Through a Dictionary Object in Python?\n",
        "\n",
        "my_dict = {'a': 1, 'b': 2, 'c': 3}\n",
        "\n",
        "for key in my_dict:\n",
        "    print(key)\n",
        "\n",
        "for value in my_dict.values():\n",
        "    print(value)\n",
        "\n",
        "for key, value in my_dict.items():\n",
        "    print(key, value)\n"
      ],
      "metadata": {
        "colab": {
          "base_uri": "https://localhost:8080/"
        },
        "id": "sfRWHvFqVrVv",
        "outputId": "efbf1f8a-7f79-4d86-f712-59b52d35d397"
      },
      "execution_count": null,
      "outputs": [
        {
          "output_type": "stream",
          "name": "stdout",
          "text": [
            "a\n",
            "b\n",
            "c\n",
            "1\n",
            "2\n",
            "3\n",
            "a 1\n",
            "b 2\n",
            "c 3\n"
          ]
        }
      ]
    },
    {
      "cell_type": "code",
      "source": [
        "# 52) How Do You Check the Presence of a Key in A Dictionary?\n",
        "\n",
        "my_dict = {'name': 'Alice', 'age': 25}\n",
        "\n",
        "key = 'age'\n",
        "if key in my_dict:\n",
        "    print(\"Key exists\")\n",
        "else:\n",
        "    print(\"Key does not exist\")\n"
      ],
      "metadata": {
        "colab": {
          "base_uri": "https://localhost:8080/"
        },
        "id": "kdrcs3-8WEB1",
        "outputId": "a351b1a4-e446-49e1-ed28-861a01f20a84"
      },
      "execution_count": null,
      "outputs": [
        {
          "output_type": "stream",
          "name": "stdout",
          "text": [
            "Key exists\n"
          ]
        }
      ]
    },
    {
      "cell_type": "code",
      "source": [
        "# 53) Write a Python script to print a dictionary where the keys are numbers between 1 and 15.\n",
        "\n",
        "my_dict = {i: i for i in range(1, 16)}\n",
        "print(my_dict)\n"
      ],
      "metadata": {
        "colab": {
          "base_uri": "https://localhost:8080/"
        },
        "id": "fk-9UWvjWKUJ",
        "outputId": "e0b8e2a3-3401-4012-9725-256b68f71ce9"
      },
      "execution_count": null,
      "outputs": [
        {
          "output_type": "stream",
          "name": "stdout",
          "text": [
            "{1: 1, 2: 2, 3: 3, 4: 4, 5: 5, 6: 6, 7: 7, 8: 8, 9: 9, 10: 10, 11: 11, 12: 12, 13: 13, 14: 14, 15: 15}\n"
          ]
        }
      ]
    },
    {
      "cell_type": "code",
      "source": [
        "# 54) Write a Python program to check multiple keys exists in a dictionary\n",
        "\n",
        "def check_keys(dictionary, keys):\n",
        "    return all(key in dictionary for key in keys)\n",
        "\n",
        "my_dict = {'a': 1, 'b': 2, 'c': 3}\n",
        "keys_to_check = ['a', 'b']\n",
        "\n",
        "print(check_keys(my_dict, keys_to_check))\n",
        "print(check_keys(my_dict, ['a', 'd']))\n"
      ],
      "metadata": {
        "colab": {
          "base_uri": "https://localhost:8080/"
        },
        "id": "FK7gcO2MWT7p",
        "outputId": "ed761e02-4046-4661-bc19-ce986e6de290"
      },
      "execution_count": null,
      "outputs": [
        {
          "output_type": "stream",
          "name": "stdout",
          "text": [
            "True\n",
            "False\n"
          ]
        }
      ]
    },
    {
      "cell_type": "code",
      "source": [
        "# 55) Write a Python script to merge two Python dictionaries\n",
        "\n",
        "dict1 = {'a': 1, 'b': 2}\n",
        "dict2 = {'c': 3, 'd': 4}\n",
        "\n",
        "merged_dict = {**dict1, **dict2}\n",
        "print(merged_dict)\n",
        "\n",
        "merged_dict2 = dict1.copy()\n",
        "merged_dict2.update(dict2)\n",
        "print(merged_dict2)\n"
      ],
      "metadata": {
        "colab": {
          "base_uri": "https://localhost:8080/"
        },
        "id": "5XufyubFWgoF",
        "outputId": "b07d7079-2831-45ec-d6b0-b247cd048479"
      },
      "execution_count": null,
      "outputs": [
        {
          "output_type": "stream",
          "name": "stdout",
          "text": [
            "{'a': 1, 'b': 2, 'c': 3, 'd': 4}\n",
            "{'a': 1, 'b': 2, 'c': 3, 'd': 4}\n"
          ]
        }
      ]
    },
    {
      "cell_type": "code",
      "source": [
        "# 56) Write a Python program to map two lists into a dictionary\n",
        "\n",
        "from collections import Counter\n",
        "\n",
        "keys = ['a', 'b', 'd', 'c']\n",
        "values = [400, 400, 400, 300]\n",
        "\n",
        "mapped_dict = Counter(dict(zip(keys, values)))\n",
        "print(mapped_dict)\n"
      ],
      "metadata": {
        "colab": {
          "base_uri": "https://localhost:8080/"
        },
        "id": "MhvnOaRUWqH1",
        "outputId": "8e3233eb-01ea-4415-de56-b83c13da34b7"
      },
      "execution_count": null,
      "outputs": [
        {
          "output_type": "stream",
          "name": "stdout",
          "text": [
            "Counter({'a': 400, 'b': 400, 'd': 400, 'c': 300})\n"
          ]
        }
      ]
    },
    {
      "cell_type": "code",
      "source": [
        "# 57) Write a Python program to find the highest 3 values in a dictionary\n",
        "\n",
        "my_dict = {'a': 100, 'b': 500, 'c': 300, 'd': 700, 'e': 200}\n",
        "top_3 = sorted(my_dict.values(), reverse=True)[:3]\n",
        "print(\"Top 3 values:\", top_3)\n"
      ],
      "metadata": {
        "colab": {
          "base_uri": "https://localhost:8080/"
        },
        "id": "YZ7QFB3kWvKz",
        "outputId": "59b3aad6-ff88-402b-e8f7-26ee54481ef7"
      },
      "execution_count": null,
      "outputs": [
        {
          "output_type": "stream",
          "name": "stdout",
          "text": [
            "Top 3 values: [700, 500, 300]\n"
          ]
        }
      ]
    },
    {
      "cell_type": "code",
      "source": [
        "#58) Write a Python program to combine values in python list of dictionaries. Sample data: [{'item': 'item1', 'amount': 400}, {'item': 'item2', 'amount': 300}, o {'item': 'item1', 'amount': 750}]\n",
        "\n",
        "from collections import Counter\n",
        "\n",
        "data = [\n",
        "    {'item': 'item1', 'amount': 400},\n",
        "    {'item': 'item2', 'amount': 300},\n",
        "    {'item': 'item1', 'amount': 750}\n",
        "]\n",
        "\n",
        "result = Counter()\n",
        "\n",
        "for d in data:\n",
        "    result[d['item']] += d['amount']\n",
        "\n",
        "print(result)\n"
      ],
      "metadata": {
        "colab": {
          "base_uri": "https://localhost:8080/"
        },
        "id": "OidAi4uIXn7M",
        "outputId": "db7e3013-e43d-4534-96df-34b59c456368"
      },
      "execution_count": null,
      "outputs": [
        {
          "output_type": "stream",
          "name": "stdout",
          "text": [
            "Counter({'item1': 1150, 'item2': 300})\n"
          ]
        }
      ]
    },
    {
      "cell_type": "code",
      "source": [
        "# 59) Write a Python program to create a dictionary from a string. Note: Track the count of the letters from the string.\n",
        "\n",
        "from collections import Counter\n",
        "\n",
        "string = \"hello world\"\n",
        "char_count = dict(Counter(string))\n",
        "print(char_count)\n",
        "\n"
      ],
      "metadata": {
        "colab": {
          "base_uri": "https://localhost:8080/"
        },
        "id": "f4SMZJsLXoLW",
        "outputId": "b1ed853e-620b-4134-d1eb-26d238c704c0"
      },
      "execution_count": null,
      "outputs": [
        {
          "output_type": "stream",
          "name": "stdout",
          "text": [
            "{'h': 1, 'e': 1, 'l': 3, 'o': 2, ' ': 1, 'w': 1, 'r': 1, 'd': 1}\n"
          ]
        }
      ]
    },
    {
      "cell_type": "code",
      "source": [
        "# 60) Sample string:'w3resource' Expected output: {'3': 1,’s’: 1, 'r': 2, 'u': 1, 'w': 1, 'c': 1, 'e': 2, 'o': 1}\n",
        "\n",
        "from collections import Counter\n",
        "\n",
        "sample = 'w3resource'\n",
        "result = dict(Counter(sample))\n",
        "print(result)\n"
      ],
      "metadata": {
        "colab": {
          "base_uri": "https://localhost:8080/"
        },
        "id": "2Ljd-GO5XofC",
        "outputId": "2b69f58e-ca3c-40e3-9bfd-15ebbf9f4d83"
      },
      "execution_count": null,
      "outputs": [
        {
          "output_type": "stream",
          "name": "stdout",
          "text": [
            "{'w': 1, '3': 1, 'r': 2, 'e': 2, 's': 1, 'o': 1, 'u': 1, 'c': 1}\n"
          ]
        }
      ]
    },
    {
      "cell_type": "code",
      "source": [
        "# 61) Write a Python function to calculate the factorial of a number (a nonnegative integer)\n",
        "\n",
        "def factorial(n):\n",
        "    if n == 0:\n",
        "        return 1\n",
        "    else:\n",
        "        return n * factorial(n - 1)\n",
        "\n",
        "print(factorial(5))\n"
      ],
      "metadata": {
        "colab": {
          "base_uri": "https://localhost:8080/"
        },
        "id": "9e_dLzaFXorR",
        "outputId": "7958f040-481a-4fb5-f4d2-954ffb3b5bcc"
      },
      "execution_count": null,
      "outputs": [
        {
          "output_type": "stream",
          "name": "stdout",
          "text": [
            "120\n"
          ]
        }
      ]
    },
    {
      "cell_type": "code",
      "source": [
        "# 62) Write a Python function to check whether a number is in a given range\n",
        "\n",
        "def is_in_range(num, start, end):\n",
        "    return start <= num <= end\n",
        "\n",
        "print(is_in_range(5, 1, 10))\n"
      ],
      "metadata": {
        "colab": {
          "base_uri": "https://localhost:8080/"
        },
        "id": "PPGZY3vzXo27",
        "outputId": "4f51eda2-0925-4b06-cfc5-b044865b85e1"
      },
      "execution_count": null,
      "outputs": [
        {
          "output_type": "stream",
          "name": "stdout",
          "text": [
            "True\n"
          ]
        }
      ]
    },
    {
      "cell_type": "code",
      "source": [
        "# 63) Write a Python function to check whether a number is perfect or not.\n",
        "\n",
        "def is_in_range(num, start, end):\n",
        "    return start <= num <= end\n",
        "\n",
        "print(is_in_range(5, 1, 10))\n"
      ],
      "metadata": {
        "colab": {
          "base_uri": "https://localhost:8080/"
        },
        "id": "ycBcVvI_XpBF",
        "outputId": "dd98bce4-e760-4615-ca34-b5dd390ff65f"
      },
      "execution_count": null,
      "outputs": [
        {
          "output_type": "stream",
          "name": "stdout",
          "text": [
            "True\n"
          ]
        }
      ]
    },
    {
      "cell_type": "code",
      "source": [
        "# 64) Write a Python function that checks whether a passed string is palindrome or not\n",
        "\n",
        "def is_palindrome(s):\n",
        "    return s == s[::-1]\n",
        "\n",
        "print(is_palindrome(\"madam\"))\n",
        "print(is_palindrome(\"hello\"))\n"
      ],
      "metadata": {
        "colab": {
          "base_uri": "https://localhost:8080/"
        },
        "id": "D_Zm5Iu0XpLP",
        "outputId": "f4c396e2-c5a1-43f0-9c67-547e51b2b3bf"
      },
      "execution_count": null,
      "outputs": [
        {
          "output_type": "stream",
          "name": "stdout",
          "text": [
            "True\n",
            "False\n"
          ]
        }
      ]
    },
    {
      "cell_type": "markdown",
      "source": [
        "**65) How Many Basic Types of Functions Are Available in Python?**\n",
        "\n",
        "**ANS:-**\n",
        "There are two basic types of functions in Python:\n",
        "\n",
        "**1. Built-in Functions :-**\n",
        "\n",
        "These are predefined functions provided by Python.\n",
        "\n",
        "You can use them directly without defining them.\n",
        "\n",
        "**Examples:**\n",
        "\n",
        "print(), len(), type(), input(), sum(), max(), min(), range(), int(), str()\n",
        "\n",
        "**2. User-defined Functions :-**\n",
        "\n",
        "These are custom functions created by the programmer using the def keyword.\n",
        "\n",
        "**Syntax:**\n",
        "\n",
        "def function_name(parameters):\n",
        "    # function body\n",
        "    return result\n",
        "\n",
        "\n",
        "**Example:**\n",
        "\n",
        "def greet(name):\n",
        "    return f\"Hello, {name}!\"\n",
        "\n",
        "print(greet(\"Alice\"))\n",
        "\n"
      ],
      "metadata": {
        "id": "BrFI0Bm_lmKC"
      }
    },
    {
      "cell_type": "code",
      "source": [
        "# 66) How can you pick a random item from a list or tuple?\n",
        "\n",
        "import random\n",
        "\n",
        "items = [10, 20, 30, 40]\n",
        "print(random.choice(items))\n"
      ],
      "metadata": {
        "colab": {
          "base_uri": "https://localhost:8080/"
        },
        "id": "MiyxdPjAXpQu",
        "outputId": "3fc68215-2567-485c-f145-082a4f6fa98c"
      },
      "execution_count": null,
      "outputs": [
        {
          "output_type": "stream",
          "name": "stdout",
          "text": [
            "40\n"
          ]
        }
      ]
    },
    {
      "cell_type": "code",
      "source": [
        "# 67) How can you pick a random item from a range?\n",
        "\n",
        "import random\n",
        "\n",
        "print(random.choice(range(1, 100)))\n"
      ],
      "metadata": {
        "colab": {
          "base_uri": "https://localhost:8080/"
        },
        "id": "XQw_MKzvXpS6",
        "outputId": "1ae835a4-17fa-44fb-a36a-795ab5d0fca1"
      },
      "execution_count": null,
      "outputs": [
        {
          "output_type": "stream",
          "name": "stdout",
          "text": [
            "34\n"
          ]
        }
      ]
    },
    {
      "cell_type": "code",
      "source": [
        "# 68) How can you get a random number in python?\n",
        "\n",
        "import random\n",
        "\n",
        "print(random.random())\n",
        "\n",
        "print(random.randint(1, 100))\n"
      ],
      "metadata": {
        "colab": {
          "base_uri": "https://localhost:8080/"
        },
        "id": "KS8WeyVdXpVM",
        "outputId": "999e1d21-9a03-4b23-8571-6abe926ad78a"
      },
      "execution_count": null,
      "outputs": [
        {
          "output_type": "stream",
          "name": "stdout",
          "text": [
            "0.4049133877713843\n",
            "27\n"
          ]
        }
      ]
    },
    {
      "cell_type": "code",
      "source": [
        "# 69) How will you set the starting value in generating random numbers?\n",
        "\n",
        "import random\n",
        "\n",
        "random.seed(10)\n",
        "print(random.randint(1, 100))\n"
      ],
      "metadata": {
        "colab": {
          "base_uri": "https://localhost:8080/"
        },
        "id": "4FMNgSjvXpYT",
        "outputId": "d54ff964-ac59-47f9-dbea-64d382bd942a"
      },
      "execution_count": null,
      "outputs": [
        {
          "output_type": "stream",
          "name": "stdout",
          "text": [
            "74\n"
          ]
        }
      ]
    },
    {
      "cell_type": "code",
      "source": [
        "# 70) How will you randomize the items of a list in place?\n",
        "\n",
        "import random\n",
        "\n",
        "my_list = [1, 2, 3, 4, 5]\n",
        "random.shuffle(my_list)\n",
        "print(my_list)\n"
      ],
      "metadata": {
        "colab": {
          "base_uri": "https://localhost:8080/"
        },
        "id": "0YC8XPfNXpa0",
        "outputId": "fbb8d909-94a4-475e-ef38-d99d5582f7e5"
      },
      "execution_count": null,
      "outputs": [
        {
          "output_type": "stream",
          "name": "stdout",
          "text": [
            "[3, 5, 2, 4, 1]\n"
          ]
        }
      ]
    },
    {
      "cell_type": "code",
      "source": [
        "# 71) What is File function in python? What are keywords to create and write file.\n",
        "\n",
        "file = open(\"example.txt\", \"w\")  # Create or overwrite\n",
        "file.write(\"Hello World\")\n",
        "file.close()\n"
      ],
      "metadata": {
        "id": "yFzYeuC3Xpdt"
      },
      "execution_count": null,
      "outputs": []
    },
    {
      "cell_type": "code",
      "source": [
        "# 72) Write a Python program to read an entire text file.\n",
        "\n",
        "with open(\"example.txt\", \"r\") as file:\n",
        "    content = file.read()\n",
        "    print(content)\n"
      ],
      "metadata": {
        "colab": {
          "base_uri": "https://localhost:8080/"
        },
        "id": "94T9e4m0Xpfz",
        "outputId": "51c6b02d-f924-40cf-8238-4d3b80ff1897"
      },
      "execution_count": null,
      "outputs": [
        {
          "output_type": "stream",
          "name": "stdout",
          "text": [
            "Hello World\n"
          ]
        }
      ]
    },
    {
      "cell_type": "code",
      "source": [
        "# 73) Write a Python program to append text to a file and display the text.\n",
        "\n",
        "with open(\"example.txt\", \"a\") as file:\n",
        "    file.write(\"\\nThis is an appended line.\")\n",
        "\n",
        "with open(\"example.txt\", \"r\") as file:\n",
        "    print(file.read())\n"
      ],
      "metadata": {
        "colab": {
          "base_uri": "https://localhost:8080/"
        },
        "id": "-yrVHd6FXpiQ",
        "outputId": "46bd9652-fd8a-469c-f2d6-19e47f96c722"
      },
      "execution_count": null,
      "outputs": [
        {
          "output_type": "stream",
          "name": "stdout",
          "text": [
            "Hello World\n",
            "This is an appended line.\n"
          ]
        }
      ]
    },
    {
      "cell_type": "code",
      "source": [
        "# 74) Write a Python program to read first n lines of a file.\n",
        "\n",
        "def read_first_n_lines(filename, n):\n",
        "    with open(filename, 'r') as file:\n",
        "        for i in range(n):\n",
        "            print(file.readline().strip())\n",
        "\n",
        "read_first_n_lines(\"example.txt\", 3)\n"
      ],
      "metadata": {
        "colab": {
          "base_uri": "https://localhost:8080/"
        },
        "id": "rVcvmgX6Xpk4",
        "outputId": "9592e663-4769-49b4-da26-adadaed12b9e"
      },
      "execution_count": null,
      "outputs": [
        {
          "output_type": "stream",
          "name": "stdout",
          "text": [
            "Hello World\n",
            "This is an appended line.\n",
            "\n"
          ]
        }
      ]
    },
    {
      "cell_type": "code",
      "source": [
        "# 75) Write a Python program to read last n lines of a file.\n",
        "\n",
        "def read_last_n_lines(filename, n):\n",
        "    with open(filename, 'r') as file:\n",
        "        lines = file.readlines()\n",
        "        for line in lines[-n:]:\n",
        "            print(line.strip())\n",
        "\n",
        "read_last_n_lines(\"example.txt\", 3)\n"
      ],
      "metadata": {
        "colab": {
          "base_uri": "https://localhost:8080/"
        },
        "id": "A6iwlt9eXpnO",
        "outputId": "862fe653-5e23-4133-b408-aac15aec7c0c"
      },
      "execution_count": null,
      "outputs": [
        {
          "output_type": "stream",
          "name": "stdout",
          "text": [
            "Hello World\n",
            "This is an appended line.\n"
          ]
        }
      ]
    },
    {
      "cell_type": "code",
      "source": [
        "# 76) Write a Python program to read a file line by line and store it into a list\n",
        "\n",
        "with open(\"example.txt\", \"r\") as file:\n",
        "    lines_list = file.readlines()\n",
        "\n",
        "print(lines_list)\n"
      ],
      "metadata": {
        "colab": {
          "base_uri": "https://localhost:8080/"
        },
        "id": "UMRgx0LJXppk",
        "outputId": "ba304bf9-79d7-4ee0-b3d5-7a9af3112574"
      },
      "execution_count": null,
      "outputs": [
        {
          "output_type": "stream",
          "name": "stdout",
          "text": [
            "['Hello World\\n', 'This is an appended line.']\n"
          ]
        }
      ]
    },
    {
      "cell_type": "code",
      "source": [
        "# 77) Write a Python program to read a file line by line store it into a variable.\n",
        "\n",
        "with open(\"example.txt\", \"r\") as file:\n",
        "    content = file.read()\n",
        "\n",
        "print(content)\n"
      ],
      "metadata": {
        "colab": {
          "base_uri": "https://localhost:8080/"
        },
        "id": "clELphEDXpsG",
        "outputId": "b4907d54-5f69-4830-c0cf-d7b1bee47eb7"
      },
      "execution_count": null,
      "outputs": [
        {
          "output_type": "stream",
          "name": "stdout",
          "text": [
            "Hello World\n",
            "This is an appended line.\n"
          ]
        }
      ]
    },
    {
      "cell_type": "code",
      "source": [
        "# 78) Write a python program to find the longest words.\n",
        "\n",
        "def find_longest_words(filename):\n",
        "    with open(filename, 'r') as file:\n",
        "        words = file.read().split()\n",
        "        max_len = max(len(word) for word in words)\n",
        "        longest_words = [word for word in words if len(word) == max_len]\n",
        "    return longest_words\n",
        "\n",
        "print(find_longest_words(\"example.txt\"))\n"
      ],
      "metadata": {
        "colab": {
          "base_uri": "https://localhost:8080/"
        },
        "id": "xDgEGcXkXpuV",
        "outputId": "d6affcd0-e49d-4fc4-f0f2-99308030fdf0"
      },
      "execution_count": null,
      "outputs": [
        {
          "output_type": "stream",
          "name": "stdout",
          "text": [
            "['appended']\n"
          ]
        }
      ]
    },
    {
      "cell_type": "code",
      "source": [
        "# 79) Write a Python program to count the number of lines in a text file.\n",
        "\n",
        "with open(\"example.txt\", \"r\") as file:\n",
        "    line_count = sum(1 for line in file)\n",
        "\n",
        "print(\"Number of lines:\", line_count)\n"
      ],
      "metadata": {
        "colab": {
          "base_uri": "https://localhost:8080/"
        },
        "id": "tVCVZCh8Xpwp",
        "outputId": "ea541a71-560f-44ac-f9f1-bf2c6055baa4"
      },
      "execution_count": null,
      "outputs": [
        {
          "output_type": "stream",
          "name": "stdout",
          "text": [
            "Number of lines: 2\n"
          ]
        }
      ]
    },
    {
      "cell_type": "code",
      "source": [
        "# 80) Write a Python program to count the frequency of words in a file.\n",
        "\n",
        "from collections import Counter\n",
        "\n",
        "with open(\"example.txt\", \"r\") as file:\n",
        "    words = file.read().split()\n",
        "    word_freq = Counter(words)\n",
        "\n",
        "print(word_freq)\n"
      ],
      "metadata": {
        "colab": {
          "base_uri": "https://localhost:8080/"
        },
        "id": "Z0UmWcQvXpzK",
        "outputId": "8f533e17-50cd-4ee8-a1f4-172b3cb6d0ae"
      },
      "execution_count": null,
      "outputs": [
        {
          "output_type": "stream",
          "name": "stdout",
          "text": [
            "Counter({'Hello': 1, 'World': 1, 'This': 1, 'is': 1, 'an': 1, 'appended': 1, 'line.': 1})\n"
          ]
        }
      ]
    },
    {
      "cell_type": "code",
      "source": [
        "# 81) Write a Python program to write a list to a file.\n",
        "\n",
        "my_list = ['apple', 'banana', 'cherry']\n",
        "\n",
        "with open('fruits.txt', 'w') as file:\n",
        "    for item in my_list:\n",
        "        file.write(item + '\\n')\n"
      ],
      "metadata": {
        "id": "svwCzJWRXp1X"
      },
      "execution_count": null,
      "outputs": []
    },
    {
      "cell_type": "code",
      "source": [
        "# 82) Write a Python program to copy the contents of a file to another file.\n",
        "\n",
        "import os\n",
        "\n",
        "source_file = 'source.txt'\n",
        "dest_file = 'destination.txt'\n",
        "\n",
        "if not os.path.exists(source_file):\n",
        "    with open(source_file, 'w') as f:\n",
        "        f.write(\"This is a sample file.\\nLine 2 of the file.\\nLine 3.\")\n",
        "\n",
        "try:\n",
        "    with open(source_file, 'r') as source, open(dest_file, 'w') as dest:\n",
        "        for line in source:\n",
        "            dest.write(line)\n",
        "    print(f\"Contents copied from {source_file} to {dest_file} successfully.\")\n",
        "except FileNotFoundError:\n",
        "    print(f\"Error: '{source_file}' not found.\")\n",
        "\n",
        "\n"
      ],
      "metadata": {
        "colab": {
          "base_uri": "https://localhost:8080/"
        },
        "id": "v8DuthgIXp3n",
        "outputId": "12e364f9-ffa0-4d5f-cac9-af44c6527c47"
      },
      "execution_count": null,
      "outputs": [
        {
          "output_type": "stream",
          "name": "stdout",
          "text": [
            "Contents copied from source.txt to destination.txt successfully.\n"
          ]
        }
      ]
    },
    {
      "cell_type": "code",
      "source": [
        "# 83) Explain Exception handling? What is an Error in Python?\n",
        "\n",
        "try:\n",
        "    result = 10 / 0\n",
        "except ZeroDivisionError:\n",
        "    print(\"Cannot divide by zero.\")\n"
      ],
      "metadata": {
        "colab": {
          "base_uri": "https://localhost:8080/"
        },
        "id": "0KphKv4lXp5v",
        "outputId": "42636114-4b02-4a75-b406-fa74cb60f5b5"
      },
      "execution_count": null,
      "outputs": [
        {
          "output_type": "stream",
          "name": "stdout",
          "text": [
            "Cannot divide by zero.\n"
          ]
        }
      ]
    },
    {
      "cell_type": "code",
      "source": [
        "# 84) How many except statements can a try-except block have? Name Some built-in exception classes:\n",
        "\n"
      ],
      "metadata": {
        "id": "FnLW4cQ7Xp76"
      },
      "execution_count": null,
      "outputs": []
    },
    {
      "cell_type": "code",
      "source": [
        "# 85) When will the else part of try-except-else be executed?\n",
        "\n",
        "try:\n",
        "    x = 10 / 2\n",
        "except ZeroDivisionError:\n",
        "    print(\"Error\")\n",
        "else:\n",
        "    print(\"No errors, result is\", x)\n"
      ],
      "metadata": {
        "colab": {
          "base_uri": "https://localhost:8080/"
        },
        "id": "pI7sJePeXp90",
        "outputId": "b2da43b1-0f25-4766-e2fe-0762691fb231"
      },
      "execution_count": null,
      "outputs": [
        {
          "output_type": "stream",
          "name": "stdout",
          "text": [
            "No errors, result is 5.0\n"
          ]
        }
      ]
    },
    {
      "cell_type": "code",
      "source": [
        "# 86) Can one block of except statements handle multiple exception?\n",
        "\n",
        "try:\n",
        "    # Risky code: trying to add string and integer (TypeError)\n",
        "    result = '2' + 2\n",
        "except (ValueError, TypeError):\n",
        "    print(\"Value or Type error occurred\")\n",
        "\n",
        "\n"
      ],
      "metadata": {
        "colab": {
          "base_uri": "https://localhost:8080/"
        },
        "id": "B_T27v_WXp_s",
        "outputId": "030c8e37-8e61-4c59-b6cd-10400abb55b3"
      },
      "execution_count": null,
      "outputs": [
        {
          "output_type": "stream",
          "name": "stdout",
          "text": [
            "Value or Type error occurred\n"
          ]
        }
      ]
    },
    {
      "cell_type": "code",
      "source": [
        "# 87) When is the finally block executed?\n",
        "\n",
        "try:\n",
        "    x = 10 / 0\n",
        "except ZeroDivisionError:\n",
        "    print(\"Handled\")\n",
        "finally:\n",
        "    print(\"This will always run\")\n"
      ],
      "metadata": {
        "colab": {
          "base_uri": "https://localhost:8080/"
        },
        "id": "QJOX5P2EXqBh",
        "outputId": "59ae2f18-b6fe-4851-ed8d-f835df7d120a"
      },
      "execution_count": null,
      "outputs": [
        {
          "output_type": "stream",
          "name": "stdout",
          "text": [
            "Handled\n",
            "This will always run\n"
          ]
        }
      ]
    },
    {
      "cell_type": "code",
      "source": [
        "# 88) What happens when „1‟== 1 is executed?\n",
        "\n",
        "print('1' == 1)  # Output: False\n"
      ],
      "metadata": {
        "colab": {
          "base_uri": "https://localhost:8080/"
        },
        "id": "-OlnnjGQXqDS",
        "outputId": "5301cf41-8e11-4192-b5f5-f51ca5724462"
      },
      "execution_count": null,
      "outputs": [
        {
          "output_type": "stream",
          "name": "stdout",
          "text": [
            "False\n"
          ]
        }
      ]
    },
    {
      "cell_type": "code",
      "source": [
        "# 89) How Do You Handle Exceptions with Try/Except/Finally in Python? Explain with coding snippets.\n",
        "\n",
        "try:\n",
        "    number = int(input(\"Enter a number: \"))\n",
        "    result = 10 / number\n",
        "except ValueError:\n",
        "    print(\"You did not enter a number.\")\n",
        "except ZeroDivisionError:\n",
        "    print(\"Cannot divide by zero.\")\n",
        "else:\n",
        "    print(\"Result:\", result)\n",
        "finally:\n",
        "    print(\"Program finished.\")\n",
        "\n"
      ],
      "metadata": {
        "colab": {
          "base_uri": "https://localhost:8080/"
        },
        "id": "YDuAl_iuXqFO",
        "outputId": "0255a823-2dfd-49f2-cc62-87dbb9ed1ced"
      },
      "execution_count": null,
      "outputs": [
        {
          "output_type": "stream",
          "name": "stdout",
          "text": [
            "Enter a number: 10\n",
            "Result: 1.0\n",
            "Program finished.\n"
          ]
        }
      ]
    },
    {
      "cell_type": "code",
      "source": [
        "# 90) Write python program that user to enter only odd numbers, else will raise an exception.\n",
        "\n",
        "try:\n",
        "    number = int(input(\"Enter an odd number: \"))\n",
        "    if number % 2 == 0:\n",
        "        raise ValueError(\"That's not an odd number!\")\n",
        "    print(\"Thank you for entering an odd number.\")\n",
        "except ValueError as e:\n",
        "    print(\"Error:\", e)\n"
      ],
      "metadata": {
        "colab": {
          "base_uri": "https://localhost:8080/"
        },
        "id": "XFK7tTkNXqH0",
        "outputId": "fc721d70-356d-4ed3-9c3f-8c779fd1ad75"
      },
      "execution_count": null,
      "outputs": [
        {
          "output_type": "stream",
          "name": "stdout",
          "text": [
            "Enter an odd number: 4\n",
            "Error: That's not an odd number!\n"
          ]
        }
      ]
    },
    {
      "cell_type": "code",
      "source": [],
      "metadata": {
        "id": "HKWXBZP-et48"
      },
      "execution_count": null,
      "outputs": []
    }
  ]
}